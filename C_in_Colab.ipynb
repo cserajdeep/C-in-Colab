{
  "nbformat": 4,
  "nbformat_minor": 0,
  "metadata": {
    "colab": {
      "name": "C_in_Colab.ipynb",
      "provenance": []
    },
    "kernelspec": {
      "name": "python3",
      "display_name": "Python 3"
    },
    "language_info": {
      "name": "python"
    }
  },
  "cells": [
    {
      "cell_type": "code",
      "metadata": {
        "colab": {
          "base_uri": "https://localhost:8080/"
        },
        "id": "bWbu7mEaGEHO",
        "outputId": "2de017bd-c505-48ad-b638-6539702a7b78"
      },
      "source": [
        "%%writefile hello.c\n",
        "#include <stdio.h>\n",
        "\n",
        "int main()\n",
        "{\n",
        "    printf(\"Hello World\");\n",
        "\n",
        "    return 0;\n",
        "}"
      ],
      "execution_count": 3,
      "outputs": [
        {
          "output_type": "stream",
          "text": [
            "Writing hello.c\n"
          ],
          "name": "stdout"
        }
      ]
    },
    {
      "cell_type": "code",
      "metadata": {
        "id": "3jypHvgzG3Pn"
      },
      "source": [
        "%%script bash\n",
        "gcc hello.c"
      ],
      "execution_count": 4,
      "outputs": []
    },
    {
      "cell_type": "code",
      "metadata": {
        "colab": {
          "base_uri": "https://localhost:8080/"
        },
        "id": "MBa6k7HmHLJ8",
        "outputId": "5bf8b957-8b3c-47f0-808a-5e0e254c1594"
      },
      "source": [
        "!./a.out"
      ],
      "execution_count": 6,
      "outputs": [
        {
          "output_type": "stream",
          "text": [
            "Hello World"
          ],
          "name": "stdout"
        }
      ]
    },
    {
      "cell_type": "code",
      "metadata": {
        "colab": {
          "base_uri": "https://localhost:8080/"
        },
        "id": "2zkyzoEGHcj9",
        "outputId": "688608c1-9a86-411a-882a-c2ac72d3deb3"
      },
      "source": [
        "%%writefile raj.c\n",
        "#include <stdio.h>\n",
        "\n",
        "int main()\n",
        "{\n",
        "    char name[30]; \n",
        "    \n",
        "    printf(\"\\nEnter your name: \");\n",
        "    scanf(\"%s\",name);\n",
        "    printf(\"Hi! %s...\",name);\n",
        "\n",
        "    return 0;\n",
        "}"
      ],
      "execution_count": 13,
      "outputs": [
        {
          "output_type": "stream",
          "text": [
            "Overwriting raj.c\n"
          ],
          "name": "stdout"
        }
      ]
    },
    {
      "cell_type": "code",
      "metadata": {
        "id": "NhaYSy8nHjzx"
      },
      "source": [
        "%%script bash\n",
        "gcc raj.c -std=c99 -o  raj"
      ],
      "execution_count": 14,
      "outputs": []
    },
    {
      "cell_type": "code",
      "metadata": {
        "colab": {
          "base_uri": "https://localhost:8080/"
        },
        "id": "GvC1Iz7MH1rB",
        "outputId": "37fc3b32-b2a8-4483-f224-c17b5ed4bb84"
      },
      "source": [
        "!./raj"
      ],
      "execution_count": 15,
      "outputs": [
        {
          "output_type": "stream",
          "text": [
            "\n",
            "Enter your name: Rahul\n",
            "Hi! Rahul..."
          ],
          "name": "stdout"
        }
      ]
    },
    {
      "cell_type": "code",
      "metadata": {
        "id": "XksAsBtzH28F"
      },
      "source": [
        ""
      ],
      "execution_count": null,
      "outputs": []
    }
  ]
}